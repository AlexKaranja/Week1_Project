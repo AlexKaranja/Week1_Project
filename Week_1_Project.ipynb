{
  "nbformat": 4,
  "nbformat_minor": 0,
  "metadata": {
    "colab": {
      "provenance": []
    },
    "kernelspec": {
      "name": "python3",
      "display_name": "Python 3"
    },
    "language_info": {
      "name": "python"
    }
  },
  "cells": [
    {
      "cell_type": "markdown",
      "source": [
        "Loading SQL"
      ],
      "metadata": {
        "id": "kGy9s3H2d1sX"
      }
    },
    {
      "cell_type": "code",
      "execution_count": 1,
      "metadata": {
        "id": "py1KU64DdroR"
      },
      "outputs": [],
      "source": [
        "%load_ext sql"
      ]
    },
    {
      "cell_type": "markdown",
      "source": [
        "Creating Database"
      ],
      "metadata": {
        "id": "TGOK6JbPd87f"
      }
    },
    {
      "cell_type": "code",
      "source": [
        "%sql sqlite:///WEEK1.db"
      ],
      "metadata": {
        "id": "LAxPIfKIeB-o"
      },
      "execution_count": 2,
      "outputs": []
    },
    {
      "cell_type": "markdown",
      "source": [
        "Creating Customer Tables"
      ],
      "metadata": {
        "id": "brErizj3eKoA"
      }
    },
    {
      "cell_type": "markdown",
      "source": [
        "Creating Benefeciary Partner Data Table"
      ],
      "metadata": {
        "id": "zNrBI0fnemWu"
      }
    },
    {
      "cell_type": "code",
      "source": [
        "%%sql CREATE TABLE beneficiary_partner_data (\n",
        "partner_id INTEGER NOT NULL PRIMARY KEY,\n",
        "partner VARCHAR(30) NOT NULL,\n",
        "village VARCHAR(30) NOT NULL,\n",
        "beneficiaries INTEGER,\n",
        "beneficiary_type VARCHAR(30)\n",
        ");"
      ],
      "metadata": {
        "colab": {
          "base_uri": "https://localhost:8080/"
        },
        "id": "2Shyj8BLeJgU",
        "outputId": "d2f371be-34e7-476f-9bc2-89e9c2d6832f"
      },
      "execution_count": 3,
      "outputs": [
        {
          "output_type": "stream",
          "name": "stdout",
          "text": [
            " * sqlite:///WEEK1.db\n",
            "Done.\n"
          ]
        },
        {
          "output_type": "execute_result",
          "data": {
            "text/plain": [
              "[]"
            ]
          },
          "metadata": {},
          "execution_count": 3
        }
      ]
    },
    {
      "cell_type": "markdown",
      "source": [
        "Creating Village Locations Table"
      ],
      "metadata": {
        "id": "9ggX-tUIev4E"
      }
    },
    {
      "cell_type": "code",
      "source": [
        "%%sql CREATE TABLE village_locations (\n",
        "    village_id INTEGER NOT NULL PRIMARY KEY,\n",
        "    village VARCHAR(30) NOT NULL,\n",
        "    latitude VARCHAR(30),\n",
        "    longitude VARCHAR(30),\n",
        "    total_population INTEGER\n",
        ");"
      ],
      "metadata": {
        "colab": {
          "base_uri": "https://localhost:8080/"
        },
        "id": "h-cj3w0KedWc",
        "outputId": "c8f76a50-cee9-4382-efd3-50f394d52062"
      },
      "execution_count": 4,
      "outputs": [
        {
          "output_type": "stream",
          "name": "stdout",
          "text": [
            " * sqlite:///WEEK1.db\n",
            "Done.\n"
          ]
        },
        {
          "output_type": "execute_result",
          "data": {
            "text/plain": [
              "[]"
            ]
          },
          "metadata": {},
          "execution_count": 4
        }
      ]
    },
    {
      "cell_type": "markdown",
      "source": [
        "Adding Data To Village Locations table"
      ],
      "metadata": {
        "id": "uHD6fPmeImOM"
      }
    },
    {
      "cell_type": "code",
      "source": [
        "%%sql INSERT INTO village_locations(village_id, village,latitude,longitude, total_population) VALUES(1,'Dharkenley','4°47''35.40\"','45°12''28.80\"',12800);\n",
        "INSERT INTO village_locations(village_id, village,latitude,longitude, total_population) VALUES(2,'Bulo-Kahin','4°47''57.00\"','45°11''5.70\"',9485);\n",
        "INSERT INTO village_locations(village_id, village,latitude,longitude, total_population) VALUES(3,'Hilo Kelyo','4°47''57.00\"','45°12''58.60\"',5212);\n",
        "INSERT INTO village_locations(village_id, village,latitude,longitude, total_population) VALUES(4,'Xubow','4°46''46.77\"','45°12''7.57\"',2558);\n",
        "INSERT INTO village_locations(village_id, village,latitude,longitude, total_population) VALUES(5,'Xiintooy','4°44''14.40\"','45°13''5.00\"',3850);\n",
        "INSERT INTO village_locations(village_id, village,latitude,longitude, total_population) VALUES(6,'Dhagax Jebis','4°44''27.86\"','45°12''42.03\"',3563);\n",
        "INSERT INTO village_locations(village_id, village,latitude,longitude, total_population) VALUES(7,'Filtare','4°44''20.43\"','45°12''27.89\"',8000);\n",
        "INSERT INTO village_locations(village_id, village,latitude,longitude, total_population) VALUES(8,'Howl-Wadaag','4°43''50.00\"','45°11''58.20\"',7525);\n",
        "INSERT INTO village_locations(village_id, village,latitude,longitude, total_population) VALUES(9,'Balcad','2°21.624''','45°23.928''',1500);\n",
        "INSERT INTO village_locations(village_id, village,latitude,longitude, total_population) VALUES(10,'Mareeray','2°23.504''','45°25.200''',7500);\n",
        "INSERT INTO village_locations(village_id, village,latitude,longitude, total_population) VALUES(11,'Kulmis','2°36.761''','45°30.642''',6058);\n",
        "INSERT INTO village_locations(village_id, village,latitude,longitude, total_population) VALUES(12,'Sabuun','2°53.020''','45°32.356''',5483);\n",
        "INSERT INTO village_locations(village_id, village,latitude,longitude, total_population) VALUES(13,'Bayaxaw','2°44.768''','45°29.727''',3000);\n",
        "INSERT INTO village_locations(village_id, village,latitude,longitude, total_population) VALUES(14,'Bayaxawo','2°44.768''','45°29.926''',7560);"
      ],
      "metadata": {
        "colab": {
          "base_uri": "https://localhost:8080/"
        },
        "id": "DSYwBg0dj39P",
        "outputId": "278146fe-1626-481b-dc1b-2dee1dc3bb61"
      },
      "execution_count": 6,
      "outputs": [
        {
          "output_type": "stream",
          "name": "stdout",
          "text": [
            " * sqlite:///WEEK1.db\n",
            "1 rows affected.\n",
            "1 rows affected.\n",
            "1 rows affected.\n",
            "1 rows affected.\n",
            "1 rows affected.\n",
            "1 rows affected.\n",
            "1 rows affected.\n",
            "1 rows affected.\n",
            "1 rows affected.\n",
            "1 rows affected.\n",
            "1 rows affected.\n",
            "1 rows affected.\n",
            "1 rows affected.\n",
            "1 rows affected.\n"
          ]
        },
        {
          "output_type": "execute_result",
          "data": {
            "text/plain": [
              "[]"
            ]
          },
          "metadata": {},
          "execution_count": 6
        }
      ]
    },
    {
      "cell_type": "markdown",
      "source": [
        "Adding Data To beneficiary Partner table"
      ],
      "metadata": {
        "id": "zNx09E7HIsOy"
      }
    },
    {
      "cell_type": "code",
      "source": [
        "%%sql INSERT INTO beneficiary_partner_data(partner_id,partner,village,beneficiaries,beneficiary_type) VALUES(1,'IRC','Balcad','1450','Individuals');\n",
        "INSERT INTO beneficiary_partner_data(partner_id,partner,village,beneficiaries,beneficiary_type) VALUES(2,'NRC','Balcad','50','Households');\n",
        "INSERT INTO beneficiary_partner_data(partner_id,partner,village,beneficiaries,beneficiary_type) VALUES(3,'SCI','Balcad','1123','Individuals');\n",
        "INSERT INTO beneficiary_partner_data(partner_id,partner,village,beneficiaries,beneficiary_type) VALUES(4,'IMC','Balcad','1245','Individuals');\n",
        "INSERT INTO beneficiary_partner_data(partner_id,partner,village,beneficiaries,beneficiary_type) VALUES(5,'SCI','Mareeray','5200','Individuals');\n",
        "INSERT INTO beneficiary_partner_data(partner_id,partner,village,beneficiaries,beneficiary_type) VALUES(6,'IMC','Mareeray','70','Households');\n",
        "INSERT INTO beneficiary_partner_data(partner_id,partner,village,beneficiaries,beneficiary_type) VALUES(7,'IRC','Mareeray','2100','Individuals');\n",
        "INSERT INTO beneficiary_partner_data(partner_id,partner,village,beneficiaries,beneficiary_type) VALUES(8,'CESVI','Mareeray','1800','Individuals');\n",
        "INSERT INTO beneficiary_partner_data(partner_id,partner,village,beneficiaries,beneficiary_type) VALUES(9,'SCI','Kulmis','1340','Individuals');\n",
        "INSERT INTO beneficiary_partner_data(partner_id,partner,village,beneficiaries,beneficiary_type) VALUES(10,'IMC','Kulmis','55','Households');\n",
        "INSERT INTO beneficiary_partner_data(partner_id,partner,village,beneficiaries,beneficiary_type) VALUES(11,'SCI','Kulmis','4500','Individuals');\n",
        "INSERT INTO beneficiary_partner_data(partner_id,partner,village,beneficiaries,beneficiary_type) VALUES(12,'IMC','Kulmis','1670','Individuals');\n",
        "INSERT INTO beneficiary_partner_data(partner_id,partner,village,beneficiaries,beneficiary_type) VALUES(13,'IMC','Sabuun','1340','Individuals');\n",
        "INSERT INTO beneficiary_partner_data(partner_id,partner,village,beneficiaries,beneficiary_type) VALUES(14,'IRC','Sabuun','66','Households');\n",
        "INSERT INTO beneficiary_partner_data(partner_id,partner,village,beneficiaries,beneficiary_type) VALUES(15,'CESVI','Sabuun','4090','Individuals');\n",
        "INSERT INTO beneficiary_partner_data(partner_id,partner,village,beneficiaries,beneficiary_type) VALUES(16,'SCI','Sabuun','2930','Individuals');\n",
        "INSERT INTO beneficiary_partner_data(partner_id,partner,village,beneficiaries,beneficiary_type) VALUES(17,'IMC','Bayaxaw','2800','Individuals');\n",
        "INSERT INTO beneficiary_partner_data(partner_id,partner,village,beneficiaries,beneficiary_type) VALUES(18,'IRC','Bayaxaw','2100','Individuals');\n",
        "INSERT INTO beneficiary_partner_data(partner_id,partner,village,beneficiaries,beneficiary_type) VALUES(19,'CESVI','Bayaxaw','45','Households');\n",
        "INSERT INTO beneficiary_partner_data(partner_id,partner,village,beneficiaries,beneficiary_type) VALUES(20,'SCI','Bayaxaw','1700','Individuals');\n",
        "INSERT INTO beneficiary_partner_data(partner_id,partner,village,beneficiaries,beneficiary_type) VALUES(21,'SCI','Bayaxawo','5900','Individuals');\n",
        "INSERT INTO beneficiary_partner_data(partner_id,partner,village,beneficiaries,beneficiary_type) VALUES(22,'IMC','Bayaxawo','40','Households');\n",
        "INSERT INTO beneficiary_partner_data(partner_id,partner,village,beneficiaries,beneficiary_type) VALUES(23,'IRC','Bayaxawo','1500','Individuals');\n",
        "INSERT INTO beneficiary_partner_data(partner_id,partner,village,beneficiaries,beneficiary_type) VALUES(24,'CESVI','Bayaxawo','1260','Individuals');\n",
        "INSERT INTO beneficiary_partner_data(partner_id,partner,village,beneficiaries,beneficiary_type) VALUES(25,'CESVI','Dharkenley','7880','Individuals');\n",
        "INSERT INTO beneficiary_partner_data(partner_id,partner,village,beneficiaries,beneficiary_type) VALUES(26,'IRC','Dharkenley','34','Households');\n",
        "INSERT INTO beneficiary_partner_data(partner_id,partner,village,beneficiaries,beneficiary_type) VALUES(27,'SCI','Bulo-Kahin','4300','Individuals');\n",
        "INSERT INTO beneficiary_partner_data(partner_id,partner,village,beneficiaries,beneficiary_type) VALUES(28,'IMC','Bulo-Kahin','4212','Individuals');\n",
        "INSERT INTO beneficiary_partner_data(partner_id,partner,village,beneficiaries,beneficiary_type) VALUES(29,'IRC','Bulo-Kahin','3200','Individuals');\n",
        "INSERT INTO beneficiary_partner_data(partner_id,partner,village,beneficiaries,beneficiary_type) VALUES(30,'IRC','Hilo Kelyo','5212','Individuals');\n",
        "INSERT INTO beneficiary_partner_data(partner_id,partner,village,beneficiaries,beneficiary_type) VALUES(31,'SCI','Hilo Kelyo','25','Households');\n",
        "INSERT INTO beneficiary_partner_data(partner_id,partner,village,beneficiaries,beneficiary_type) VALUES(32,'CESVI','Xubow','2157','Individuals');\n",
        "INSERT INTO beneficiary_partner_data(partner_id,partner,village,beneficiaries,beneficiary_type) VALUES(33,'IMC','Xiintooy','1667','Individuals');\n",
        "INSERT INTO beneficiary_partner_data(partner_id,partner,village,beneficiaries,beneficiary_type) VALUES(34,'IRC','Xiintooy','2667','Individuals');\n",
        "INSERT INTO beneficiary_partner_data(partner_id,partner,village,beneficiaries,beneficiary_type) VALUES(35,'CESVI','Dhagax Jebis','2856','Individuals');\n",
        "INSERT INTO beneficiary_partner_data(partner_id,partner,village,beneficiaries,beneficiary_type) VALUES(36,'CESVI','Filtare','7519','Individuals');\n",
        "INSERT INTO beneficiary_partner_data(partner_id,partner,village,beneficiaries,beneficiary_type) VALUES(37,'CESVI','Howl-Wadaag','6870','Individuals');\n",
        "INSERT INTO beneficiary_partner_data(partner_id,partner,village,beneficiaries,beneficiary_type) VALUES(38,'IMC','Howl-Wadaag','32','Households');"
      ],
      "metadata": {
        "colab": {
          "base_uri": "https://localhost:8080/"
        },
        "id": "myTuDdQZHGQv",
        "outputId": "3ac9fe7a-2a9c-4a4e-a50b-9405924e6761"
      },
      "execution_count": 7,
      "outputs": [
        {
          "output_type": "stream",
          "name": "stdout",
          "text": [
            " * sqlite:///WEEK1.db\n",
            "1 rows affected.\n",
            "1 rows affected.\n",
            "1 rows affected.\n",
            "1 rows affected.\n",
            "1 rows affected.\n",
            "1 rows affected.\n",
            "1 rows affected.\n",
            "1 rows affected.\n",
            "1 rows affected.\n",
            "1 rows affected.\n",
            "1 rows affected.\n",
            "1 rows affected.\n",
            "1 rows affected.\n",
            "1 rows affected.\n",
            "1 rows affected.\n",
            "1 rows affected.\n",
            "1 rows affected.\n",
            "1 rows affected.\n",
            "1 rows affected.\n",
            "1 rows affected.\n",
            "1 rows affected.\n",
            "1 rows affected.\n",
            "1 rows affected.\n",
            "1 rows affected.\n",
            "1 rows affected.\n",
            "1 rows affected.\n",
            "1 rows affected.\n",
            "1 rows affected.\n",
            "1 rows affected.\n",
            "1 rows affected.\n",
            "1 rows affected.\n",
            "1 rows affected.\n",
            "1 rows affected.\n",
            "1 rows affected.\n",
            "1 rows affected.\n",
            "1 rows affected.\n",
            "1 rows affected.\n",
            "1 rows affected.\n"
          ]
        },
        {
          "output_type": "execute_result",
          "data": {
            "text/plain": [
              "[]"
            ]
          },
          "metadata": {},
          "execution_count": 7
        }
      ]
    },
    {
      "cell_type": "code",
      "source": [
        "%%sql CREATE TABLE jurisdiction_hierarchy (\n",
        "    Jurisdiction_id INTEGER NOT NULL PRIMARY KEY,\n",
        "    village VARCHAR(30),\n",
        "    distict VARCHAR(30),\n",
        "    region VARCHAR(30)\n",
        ");"
      ],
      "metadata": {
        "id": "waxdu1WSZzBg",
        "colab": {
          "base_uri": "https://localhost:8080/"
        },
        "outputId": "9c6726d3-8511-4f4a-d1c2-4b0ab026dd45"
      },
      "execution_count": 8,
      "outputs": [
        {
          "output_type": "stream",
          "name": "stdout",
          "text": [
            " * sqlite:///WEEK1.db\n",
            "Done.\n"
          ]
        },
        {
          "output_type": "execute_result",
          "data": {
            "text/plain": [
              "[]"
            ]
          },
          "metadata": {},
          "execution_count": 8
        }
      ]
    },
    {
      "cell_type": "markdown",
      "source": [
        "Adding Data To beneficiary Jurisdiction Hierachy Table"
      ],
      "metadata": {
        "id": "cI4W0HRYIg-C"
      }
    },
    {
      "cell_type": "code",
      "source": [
        "%%sql\n",
        "INSERT INTO jurisdiction_hierarchy VALUES(1,'Middle Shabelle','Region',NULL);\n",
        "INSERT INTO jurisdiction_hierarchy VALUES(2,'Hiraan','Region',NULL);\n",
        "INSERT INTO jurisdiction_hierarchy VALUES(3,'Balcad','District','Middle Shabelle');\n",
        "INSERT INTO jurisdiction_hierarchy VALUES(4,'Jowhar','District','Middle Shabelle');\n",
        "INSERT INTO jurisdiction_hierarchy VALUES(5,'Beledweyn','District','Hiraan');\n",
        "INSERT INTO jurisdiction_hierarchy VALUES(6,'Dharkenley','Village','Beledweyn');\n",
        "INSERT INTO jurisdiction_hierarchy VALUES(7,'Bulo-Kahin','Village','Beledweyn');\n",
        "INSERT INTO jurisdiction_hierarchy VALUES(8,'Hilo Kelyo','Village','Beledweyn');\n",
        "INSERT INTO jurisdiction_hierarchy VALUES(9,'Xubow','Village','Beledweyn');\n",
        "INSERT INTO jurisdiction_hierarchy VALUES(10,'Xiintooy','Village','Beledweyn');\n",
        "INSERT INTO jurisdiction_hierarchy VALUES(11,'Dhagax Jebis','Village','Beledweyn');\n",
        "INSERT INTO jurisdiction_hierarchy VALUES(12,'Filtare','Village','Beledweyn');\n",
        "INSERT INTO jurisdiction_hierarchy VALUES(13,'Howl-Wadaag','Village','Beledweyn');\n",
        "INSERT INTO jurisdiction_hierarchy VALUES(14,'Balcad','Village','Balcad');\n",
        "INSERT INTO jurisdiction_hierarchy VALUES(15,'Mareeray','Village','Balcad');\n",
        "INSERT INTO jurisdiction_hierarchy VALUES(16,'Kulmis','Village','Balcad');\n",
        "INSERT INTO jurisdiction_hierarchy VALUES(17,'Sabuun','Village','Jowhar');\n",
        "INSERT INTO jurisdiction_hierarchy VALUES(18,'Bayaxaw','Village','Jowhar');"
      ],
      "metadata": {
        "colab": {
          "base_uri": "https://localhost:8080/"
        },
        "id": "lkOa59ZTIbJr",
        "outputId": "0d232aa1-7e69-422f-abf4-ab1179708586"
      },
      "execution_count": 9,
      "outputs": [
        {
          "output_type": "stream",
          "name": "stdout",
          "text": [
            " * sqlite:///WEEK1.db\n",
            "1 rows affected.\n",
            "1 rows affected.\n",
            "1 rows affected.\n",
            "1 rows affected.\n",
            "1 rows affected.\n",
            "1 rows affected.\n",
            "1 rows affected.\n",
            "1 rows affected.\n",
            "1 rows affected.\n",
            "1 rows affected.\n",
            "1 rows affected.\n",
            "1 rows affected.\n",
            "1 rows affected.\n",
            "1 rows affected.\n",
            "1 rows affected.\n",
            "1 rows affected.\n",
            "1 rows affected.\n",
            "1 rows affected.\n"
          ]
        },
        {
          "output_type": "execute_result",
          "data": {
            "text/plain": [
              "[]"
            ]
          },
          "metadata": {},
          "execution_count": 9
        }
      ]
    },
    {
      "cell_type": "markdown",
      "source": [
        "Write a SQL script that creates the following summary tables (can be tables or views):\n",
        "\n",
        "District Summary"
      ],
      "metadata": {
        "id": "JjHEdYgsIr2O"
      }
    },
    {
      "cell_type": "code",
      "source": [
        "%%sql CREATE VIEW District_Summary AS\n",
        "SELECT\n",
        "    j.distict AS District_Name,\n",
        "    j.region AS Region_Name,\n",
        "    SUM(CASE WHEN bp.beneficiary_type = 'Individual' THEN bp.beneficiaries ELSE 0 END) AS No_of_Individual_Beneficiaries,\n",
        "    CAST(SUM(CASE WHEN bp.beneficiary_type = 'Individual' THEN bp.beneficiaries ELSE 0 END) AS FLOAT) / CAST(v.total_population AS FLOAT) AS Individual_Beneficiaries_Percentage\n",
        "FROM\n",
        "    jurisdiction_hierarchy j\n",
        "INNER JOIN\n",
        "    village_locations v ON j.village = v.village\n",
        "LEFT JOIN\n",
        "    beneficiary_partner_data bp ON j.village = bp.village\n",
        "GROUP BY\n",
        "    j.distict, j.region;\n"
      ],
      "metadata": {
        "colab": {
          "base_uri": "https://localhost:8080/"
        },
        "id": "2vSGOv1pI373",
        "outputId": "76742abe-7238-4d63-cfa8-56ce3e82e44c"
      },
      "execution_count": 10,
      "outputs": [
        {
          "output_type": "stream",
          "name": "stdout",
          "text": [
            " * sqlite:///WEEK1.db\n",
            "Done.\n"
          ]
        },
        {
          "output_type": "execute_result",
          "data": {
            "text/plain": [
              "[]"
            ]
          },
          "metadata": {},
          "execution_count": 10
        }
      ]
    },
    {
      "cell_type": "code",
      "source": [
        "%%sql SELECT * FROM District_Summary;\n"
      ],
      "metadata": {
        "colab": {
          "base_uri": "https://localhost:8080/",
          "height": 161
        },
        "id": "mzipowLCKTfa",
        "outputId": "07512ffd-b4d9-4e9e-c400-9312a02b10d6"
      },
      "execution_count": 11,
      "outputs": [
        {
          "output_type": "stream",
          "name": "stdout",
          "text": [
            " * sqlite:///WEEK1.db\n",
            "Done.\n"
          ]
        },
        {
          "output_type": "execute_result",
          "data": {
            "text/plain": [
              "[('District', 'Middle Shabelle', 0, 0.0),\n",
              " ('Village', 'Balcad', 0, 0.0),\n",
              " ('Village', 'Beledweyn', 0, 0.0),\n",
              " ('Village', 'Jowhar', 0, 0.0)]"
            ],
            "text/html": [
              "<table>\n",
              "    <thead>\n",
              "        <tr>\n",
              "            <th>District_Name</th>\n",
              "            <th>Region_Name</th>\n",
              "            <th>No_of_Individual_Beneficiaries</th>\n",
              "            <th>Individual_Beneficiaries_Percentage</th>\n",
              "        </tr>\n",
              "    </thead>\n",
              "    <tbody>\n",
              "        <tr>\n",
              "            <td>District</td>\n",
              "            <td>Middle Shabelle</td>\n",
              "            <td>0</td>\n",
              "            <td>0.0</td>\n",
              "        </tr>\n",
              "        <tr>\n",
              "            <td>Village</td>\n",
              "            <td>Balcad</td>\n",
              "            <td>0</td>\n",
              "            <td>0.0</td>\n",
              "        </tr>\n",
              "        <tr>\n",
              "            <td>Village</td>\n",
              "            <td>Beledweyn</td>\n",
              "            <td>0</td>\n",
              "            <td>0.0</td>\n",
              "        </tr>\n",
              "        <tr>\n",
              "            <td>Village</td>\n",
              "            <td>Jowhar</td>\n",
              "            <td>0</td>\n",
              "            <td>0.0</td>\n",
              "        </tr>\n",
              "    </tbody>\n",
              "</table>"
            ]
          },
          "metadata": {},
          "execution_count": 11
        }
      ]
    },
    {
      "cell_type": "markdown",
      "source": [
        "Partner Summary"
      ],
      "metadata": {
        "id": "JjGcVD5mNJmE"
      }
    },
    {
      "cell_type": "code",
      "source": [
        "%%sql CREATE VIEW Partner_Summary AS\n",
        "SELECT\n",
        "    partner AS Partner_Name,\n",
        "    COUNT(DISTINCT bp.village) AS No_of_Villages_reached_by_partner,\n",
        "    COUNT(DISTINCT j.distict) AS No_of_Districts_reached_by_partner\n",
        "FROM\n",
        "    beneficiary_partner_data bp\n",
        "LEFT JOIN\n",
        "    jurisdiction_hierarchy j ON bp.village = j.village\n",
        "GROUP BY\n",
        "    partner;\n"
      ],
      "metadata": {
        "colab": {
          "base_uri": "https://localhost:8080/"
        },
        "id": "jyBw83ZvNMT6",
        "outputId": "57acfb84-e55b-4298-8f95-3c56340281ec"
      },
      "execution_count": 12,
      "outputs": [
        {
          "output_type": "stream",
          "name": "stdout",
          "text": [
            " * sqlite:///WEEK1.db\n",
            "Done.\n"
          ]
        },
        {
          "output_type": "execute_result",
          "data": {
            "text/plain": [
              "[]"
            ]
          },
          "metadata": {},
          "execution_count": 12
        }
      ]
    },
    {
      "cell_type": "code",
      "source": [
        "%%sql SELECT * FROM Partner_Summary;\n"
      ],
      "metadata": {
        "colab": {
          "base_uri": "https://localhost:8080/",
          "height": 182
        },
        "id": "y7K5QfW3NSLY",
        "outputId": "abbd0f8a-0b11-4a1e-bdaf-b94bb606f767"
      },
      "execution_count": 13,
      "outputs": [
        {
          "output_type": "stream",
          "name": "stdout",
          "text": [
            " * sqlite:///WEEK1.db\n",
            "Done.\n"
          ]
        },
        {
          "output_type": "execute_result",
          "data": {
            "text/plain": [
              "[('CESVI', 9, 1), ('IMC', 9, 2), ('IRC', 9, 2), ('NRC', 1, 2), ('SCI', 8, 2)]"
            ],
            "text/html": [
              "<table>\n",
              "    <thead>\n",
              "        <tr>\n",
              "            <th>Partner_Name</th>\n",
              "            <th>No_of_Villages_reached_by_partner</th>\n",
              "            <th>No_of_Districts_reached_by_partner</th>\n",
              "        </tr>\n",
              "    </thead>\n",
              "    <tbody>\n",
              "        <tr>\n",
              "            <td>CESVI</td>\n",
              "            <td>9</td>\n",
              "            <td>1</td>\n",
              "        </tr>\n",
              "        <tr>\n",
              "            <td>IMC</td>\n",
              "            <td>9</td>\n",
              "            <td>2</td>\n",
              "        </tr>\n",
              "        <tr>\n",
              "            <td>IRC</td>\n",
              "            <td>9</td>\n",
              "            <td>2</td>\n",
              "        </tr>\n",
              "        <tr>\n",
              "            <td>NRC</td>\n",
              "            <td>1</td>\n",
              "            <td>2</td>\n",
              "        </tr>\n",
              "        <tr>\n",
              "            <td>SCI</td>\n",
              "            <td>8</td>\n",
              "            <td>2</td>\n",
              "        </tr>\n",
              "    </tbody>\n",
              "</table>"
            ]
          },
          "metadata": {},
          "execution_count": 13
        }
      ]
    },
    {
      "cell_type": "code",
      "source": [],
      "metadata": {
        "id": "K1oZxt04NUDv"
      },
      "execution_count": null,
      "outputs": []
    }
  ]
}